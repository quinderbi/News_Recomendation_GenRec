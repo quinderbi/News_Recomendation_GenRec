{
 "cells": [
  {
   "cell_type": "markdown",
   "metadata": {},
   "source": [
    "## Download Data"
   ]
  },
  {
   "cell_type": "code",
   "execution_count": 52,
   "metadata": {},
   "outputs": [
    {
     "name": "stdout",
     "output_type": "stream",
     "text": [
      "Download file...\n",
      "File : ebnerd_demo.zip\n",
      "extract file...\n",
      "File extract to: ebnerd_demo\n"
     ]
    }
   ],
   "source": [
    "import requests\n",
    "import zipfile\n",
    "import os\n",
    "\n",
    "# URL file ZIP\n",
    "url = \"https://ebnerd-dataset.s3.eu-west-1.amazonaws.com/ebnerd_demo.zip\"\n",
    "output_zip_path = \"ebnerd_demo.zip\" \n",
    "extract_to_path = 'ebnerd_demo' \n",
    "\n",
    "try:\n",
    "    print(\"Download file...\")\n",
    "    response = requests.get(url, stream=True)\n",
    "    response.raise_for_status()  \n",
    "    with open(output_zip_path, \"wb\") as file:\n",
    "        for chunk in response.iter_content(chunk_size=8192):\n",
    "            file.write(chunk)\n",
    "    print(f\"File : {output_zip_path}\")\n",
    "\n",
    "    # Mengekstrak file ZIP\n",
    "    print(\"extract file...\")\n",
    "    with zipfile.ZipFile(output_zip_path, 'r') as zip_ref:\n",
    "        zip_ref.extractall(extract_to_path)\n",
    "    print(f\"File extract to: {extract_to_path}\")\n",
    "\n",
    "except requests.exceptions.RequestException as e:\n",
    "    print(f\"erorr: {e}\")\n",
    "except zipfile.BadZipFile:\n",
    "    print(\"Not Valid File ZIP.\")\n"
   ]
  },
  {
   "cell_type": "markdown",
   "metadata": {},
   "source": [
    "## Open Dataset"
   ]
  },
  {
   "cell_type": "code",
   "execution_count": 53,
   "metadata": {},
   "outputs": [],
   "source": [
    "import pandas as pd\n",
    "import numpy as np\n",
    "\n",
    "df_1 = pd.read_parquet('ebnerd_demo/train/history.parquet')\n",
    "df_2 = pd.read_parquet('ebnerd_demo/validation/history.parquet')\n",
    "df = pd.concat([df_1, df_2])"
   ]
  },
  {
   "cell_type": "code",
   "execution_count": 54,
   "metadata": {},
   "outputs": [],
   "source": [
    "df = df.explode(['impression_time_fixed', 'scroll_percentage_fixed','article_id_fixed', 'read_time_fixed'])"
   ]
  },
  {
   "cell_type": "code",
   "execution_count": 55,
   "metadata": {},
   "outputs": [],
   "source": [
    "df = df.rename(columns={'impression_time_fixed': 'timestamp', 'scroll_percentage_fixed': 'scroll_percentage', 'article_id_fixed': 'item_id', 'read_time_fixed': 'read_time'})"
   ]
  },
  {
   "cell_type": "code",
   "execution_count": 56,
   "metadata": {},
   "outputs": [
    {
     "data": {
      "text/html": [
       "<div>\n",
       "<style scoped>\n",
       "    .dataframe tbody tr th:only-of-type {\n",
       "        vertical-align: middle;\n",
       "    }\n",
       "\n",
       "    .dataframe tbody tr th {\n",
       "        vertical-align: top;\n",
       "    }\n",
       "\n",
       "    .dataframe thead th {\n",
       "        text-align: right;\n",
       "    }\n",
       "</style>\n",
       "<table border=\"1\" class=\"dataframe\">\n",
       "  <thead>\n",
       "    <tr style=\"text-align: right;\">\n",
       "      <th></th>\n",
       "      <th>user_id</th>\n",
       "      <th>timestamp</th>\n",
       "      <th>scroll_percentage</th>\n",
       "      <th>item_id</th>\n",
       "      <th>read_time</th>\n",
       "    </tr>\n",
       "  </thead>\n",
       "  <tbody>\n",
       "    <tr>\n",
       "      <th>0</th>\n",
       "      <td>13538</td>\n",
       "      <td>2023-04-27 10:17:43</td>\n",
       "      <td>100.0</td>\n",
       "      <td>9738663</td>\n",
       "      <td>17.0</td>\n",
       "    </tr>\n",
       "    <tr>\n",
       "      <th>0</th>\n",
       "      <td>13538</td>\n",
       "      <td>2023-04-27 10:18:01</td>\n",
       "      <td>35.0</td>\n",
       "      <td>9738569</td>\n",
       "      <td>12.0</td>\n",
       "    </tr>\n",
       "    <tr>\n",
       "      <th>0</th>\n",
       "      <td>13538</td>\n",
       "      <td>2023-04-27 10:18:13</td>\n",
       "      <td>100.0</td>\n",
       "      <td>9738663</td>\n",
       "      <td>4.0</td>\n",
       "    </tr>\n",
       "    <tr>\n",
       "      <th>0</th>\n",
       "      <td>13538</td>\n",
       "      <td>2023-04-27 10:18:17</td>\n",
       "      <td>24.0</td>\n",
       "      <td>9738490</td>\n",
       "      <td>5.0</td>\n",
       "    </tr>\n",
       "    <tr>\n",
       "      <th>0</th>\n",
       "      <td>13538</td>\n",
       "      <td>2023-04-27 10:18:23</td>\n",
       "      <td>100.0</td>\n",
       "      <td>9738663</td>\n",
       "      <td>4.0</td>\n",
       "    </tr>\n",
       "  </tbody>\n",
       "</table>\n",
       "</div>"
      ],
      "text/plain": [
       "   user_id           timestamp scroll_percentage  item_id read_time\n",
       "0    13538 2023-04-27 10:17:43             100.0  9738663      17.0\n",
       "0    13538 2023-04-27 10:18:01              35.0  9738569      12.0\n",
       "0    13538 2023-04-27 10:18:13             100.0  9738663       4.0\n",
       "0    13538 2023-04-27 10:18:17              24.0  9738490       5.0\n",
       "0    13538 2023-04-27 10:18:23             100.0  9738663       4.0"
      ]
     },
     "execution_count": 56,
     "metadata": {},
     "output_type": "execute_result"
    }
   ],
   "source": [
    "df.head()"
   ]
  },
  {
   "cell_type": "code",
   "execution_count": 57,
   "metadata": {},
   "outputs": [
    {
     "name": "stdout",
     "output_type": "stream",
     "text": [
      "Number of users: 1935\n",
      "Number of items: 5349\n",
      "Number of interactions: 498376\n",
      "Sparsity: 0.9518491949278838\n"
     ]
    }
   ],
   "source": [
    "num_user = df['user_id'].nunique()\n",
    "num_item = df['item_id'].nunique()\n",
    "interaction = len(df)\n",
    "sparcity = 1 - (interaction / (num_user * num_item))\n",
    "\n",
    "print(f'Number of users: {num_user}')\n",
    "print(f'Number of items: {num_item}')\n",
    "print(f'Number of interactions: {interaction}')\n",
    "print(f'Sparsity: {sparcity}')"
   ]
  },
  {
   "cell_type": "markdown",
   "metadata": {},
   "source": [
    "## Delete Null Value"
   ]
  },
  {
   "cell_type": "code",
   "execution_count": 58,
   "metadata": {},
   "outputs": [],
   "source": [
    "df = df.dropna()"
   ]
  },
  {
   "cell_type": "code",
   "execution_count": 59,
   "metadata": {},
   "outputs": [
    {
     "name": "stdout",
     "output_type": "stream",
     "text": [
      "Number of users: 1935\n",
      "Number of items: 5029\n",
      "Number of interactions: 448466\n",
      "Sparsity: 0.9539142225736722\n"
     ]
    }
   ],
   "source": [
    "num_user = df['user_id'].nunique()\n",
    "num_item = df['item_id'].nunique()\n",
    "interaction = len(df)\n",
    "sparcity = 1 - (interaction / (num_user * num_item))\n",
    "\n",
    "print(f'Number of users: {num_user}')\n",
    "print(f'Number of items: {num_item}')\n",
    "print(f'Number of interactions: {interaction}')\n",
    "print(f'Sparsity: {sparcity}')"
   ]
  },
  {
   "cell_type": "markdown",
   "metadata": {},
   "source": [
    "## Delete Duplicate Value"
   ]
  },
  {
   "cell_type": "code",
   "execution_count": 60,
   "metadata": {},
   "outputs": [],
   "source": [
    "df = df.drop_duplicates(['user_id', 'item_id'])"
   ]
  },
  {
   "cell_type": "code",
   "execution_count": 61,
   "metadata": {},
   "outputs": [
    {
     "name": "stdout",
     "output_type": "stream",
     "text": [
      "Number of users: 1935\n",
      "Number of items: 5029\n",
      "Number of interactions: 273220\n",
      "Sparsity: 0.9719230530108831\n"
     ]
    }
   ],
   "source": [
    "num_user = df['user_id'].nunique()\n",
    "num_item = df['item_id'].nunique()\n",
    "interaction = len(df)\n",
    "sparcity = 1 - (interaction / (num_user * num_item))\n",
    "\n",
    "print(f'Number of users: {num_user}')\n",
    "print(f'Number of items: {num_item}')\n",
    "print(f'Number of interactions: {interaction}')\n",
    "print(f'Sparsity: {sparcity}')"
   ]
  },
  {
   "cell_type": "markdown",
   "metadata": {},
   "source": [
    "## Delete user or item minim interaction"
   ]
  },
  {
   "cell_type": "code",
   "execution_count": 62,
   "metadata": {},
   "outputs": [],
   "source": [
    "UN = 10\n",
    "IN = 5\n",
    "\n",
    "while True:\n",
    "    df = df[df.groupby('user_id')['user_id'].transform('count') >= UN]\n",
    "    df = df[df.groupby('item_id')['item_id'].transform('count') >= IN]\n",
    "\n",
    "    if (df.groupby('user_id').count().min().item_id >= UN) and df.groupby('item_id').count().min().user_id >= IN:\n",
    "        break\n",
    "    if np.isnan(df.groupby('user_id').count().min().item_id) or np.isnan(df.groupby('item_id').count().min().user_id):\n",
    "        break"
   ]
  },
  {
   "cell_type": "code",
   "execution_count": 63,
   "metadata": {},
   "outputs": [
    {
     "name": "stdout",
     "output_type": "stream",
     "text": [
      "Number of users: 1723\n",
      "Number of items: 3247\n",
      "Number of interactions: 269250\n",
      "Sparsity: 0.9518730714596857\n"
     ]
    }
   ],
   "source": [
    "num_user = df['user_id'].nunique()\n",
    "num_item = df['item_id'].nunique()\n",
    "interaction = len(df)\n",
    "sparcity = 1 - (interaction / (num_user * num_item))\n",
    "\n",
    "print(f'Number of users: {num_user}')\n",
    "print(f'Number of items: {num_item}')\n",
    "print(f'Number of interactions: {interaction}')\n",
    "print(f'Sparsity: {sparcity}')"
   ]
  },
  {
   "cell_type": "markdown",
   "metadata": {},
   "source": [
    "## Generate Internal ID"
   ]
  },
  {
   "cell_type": "code",
   "execution_count": 64,
   "metadata": {},
   "outputs": [],
   "source": [
    "u_ids = df['user_id'].unique().tolist()\n",
    "i_ids = df['item_id'].unique().tolist()\n",
    "\n",
    "user_dict = dict(zip(u_ids, [i for i in range(len(u_ids))]))\n",
    "item_dict = dict(zip(i_ids, [i for i in range(len(i_ids))]))\n",
    "\n",
    "df['user_id'] = df['user_id'].map(user_dict)\n",
    "df['item_id'] = df['item_id'].map(item_dict)"
   ]
  },
  {
   "cell_type": "code",
   "execution_count": 65,
   "metadata": {},
   "outputs": [],
   "source": [
    "df = df.sort_values(by=['timestamp']).reset_index(drop=True)"
   ]
  },
  {
   "cell_type": "code",
   "execution_count": 66,
   "metadata": {},
   "outputs": [
    {
     "name": "stdout",
     "output_type": "stream",
     "text": [
      "Number of users: 1723\n",
      "Number of items: 3247\n",
      "Number of interactions: 269250\n",
      "Sparsity: 0.9518730714596857\n"
     ]
    }
   ],
   "source": [
    "num_user = df['user_id'].nunique()\n",
    "num_item = df['item_id'].nunique()\n",
    "interaction = len(df)\n",
    "sparcity = 1 - (interaction / (num_user * num_item))\n",
    "\n",
    "print(f'Number of users: {num_user}')\n",
    "print(f'Number of items: {num_item}')\n",
    "print(f'Number of interactions: {interaction}')\n",
    "print(f'Sparsity: {sparcity}')"
   ]
  },
  {
   "cell_type": "code",
   "execution_count": 67,
   "metadata": {},
   "outputs": [
    {
     "data": {
      "text/html": [
       "<div>\n",
       "<style scoped>\n",
       "    .dataframe tbody tr th:only-of-type {\n",
       "        vertical-align: middle;\n",
       "    }\n",
       "\n",
       "    .dataframe tbody tr th {\n",
       "        vertical-align: top;\n",
       "    }\n",
       "\n",
       "    .dataframe thead th {\n",
       "        text-align: right;\n",
       "    }\n",
       "</style>\n",
       "<table border=\"1\" class=\"dataframe\">\n",
       "  <thead>\n",
       "    <tr style=\"text-align: right;\">\n",
       "      <th></th>\n",
       "      <th>user_id</th>\n",
       "      <th>timestamp</th>\n",
       "      <th>scroll_percentage</th>\n",
       "      <th>item_id</th>\n",
       "      <th>read_time</th>\n",
       "    </tr>\n",
       "  </thead>\n",
       "  <tbody>\n",
       "    <tr>\n",
       "      <th>0</th>\n",
       "      <td>1107</td>\n",
       "      <td>2023-04-27 07:00:05</td>\n",
       "      <td>35.0</td>\n",
       "      <td>591</td>\n",
       "      <td>163.0</td>\n",
       "    </tr>\n",
       "    <tr>\n",
       "      <th>1</th>\n",
       "      <td>1107</td>\n",
       "      <td>2023-04-27 07:00:08</td>\n",
       "      <td>100.0</td>\n",
       "      <td>750</td>\n",
       "      <td>1197.0</td>\n",
       "    </tr>\n",
       "    <tr>\n",
       "      <th>2</th>\n",
       "      <td>640</td>\n",
       "      <td>2023-04-27 07:00:25</td>\n",
       "      <td>17.0</td>\n",
       "      <td>818</td>\n",
       "      <td>5.0</td>\n",
       "    </tr>\n",
       "    <tr>\n",
       "      <th>3</th>\n",
       "      <td>739</td>\n",
       "      <td>2023-04-27 07:00:26</td>\n",
       "      <td>43.0</td>\n",
       "      <td>2301</td>\n",
       "      <td>2.0</td>\n",
       "    </tr>\n",
       "    <tr>\n",
       "      <th>4</th>\n",
       "      <td>739</td>\n",
       "      <td>2023-04-27 07:00:28</td>\n",
       "      <td>100.0</td>\n",
       "      <td>1418</td>\n",
       "      <td>3.0</td>\n",
       "    </tr>\n",
       "  </tbody>\n",
       "</table>\n",
       "</div>"
      ],
      "text/plain": [
       "   user_id           timestamp scroll_percentage  item_id read_time\n",
       "0     1107 2023-04-27 07:00:05              35.0      591     163.0\n",
       "1     1107 2023-04-27 07:00:08             100.0      750    1197.0\n",
       "2      640 2023-04-27 07:00:25              17.0      818       5.0\n",
       "3      739 2023-04-27 07:00:26              43.0     2301       2.0\n",
       "4      739 2023-04-27 07:00:28             100.0     1418       3.0"
      ]
     },
     "execution_count": 67,
     "metadata": {},
     "output_type": "execute_result"
    }
   ],
   "source": [
    "df.head()"
   ]
  },
  {
   "cell_type": "markdown",
   "metadata": {},
   "source": [
    "## Train Test Validation Split"
   ]
  },
  {
   "cell_type": "code",
   "execution_count": 68,
   "metadata": {},
   "outputs": [],
   "source": [
    "from lenskit.crossfold import sample_rows\n",
    "\n",
    "def split_train_test(df, test_size=0.2):\n",
    "    len_test = int(len(df) * test_size)\n",
    "    train, test = sample_rows(df, None, len_test)\n",
    "    return train, test"
   ]
  },
  {
   "cell_type": "code",
   "execution_count": 69,
   "metadata": {},
   "outputs": [],
   "source": [
    "train_df, test_df = split_train_test(df)\n",
    "\n",
    "train_df, valid_df = split_train_test(train_df)"
   ]
  },
  {
   "cell_type": "code",
   "execution_count": 70,
   "metadata": {},
   "outputs": [
    {
     "data": {
      "text/plain": [
       "(172320, 43080, 53850)"
      ]
     },
     "execution_count": 70,
     "metadata": {},
     "output_type": "execute_result"
    }
   ],
   "source": [
    "len(train_df),len(valid_df),len(test_df)"
   ]
  },
  {
   "cell_type": "code",
   "execution_count": 71,
   "metadata": {},
   "outputs": [
    {
     "data": {
      "text/plain": [
       "(1723, 3246)"
      ]
     },
     "execution_count": 71,
     "metadata": {},
     "output_type": "execute_result"
    }
   ],
   "source": [
    "train_df['user_id'].nunique(), train_df['item_id'].nunique()"
   ]
  },
  {
   "cell_type": "code",
   "execution_count": 72,
   "metadata": {},
   "outputs": [
    {
     "data": {
      "text/plain": [
       "(1700, 3155)"
      ]
     },
     "execution_count": 72,
     "metadata": {},
     "output_type": "execute_result"
    }
   ],
   "source": [
    "valid_df['user_id'].nunique(), valid_df['item_id'].nunique()"
   ]
  },
  {
   "cell_type": "code",
   "execution_count": 73,
   "metadata": {},
   "outputs": [
    {
     "data": {
      "text/plain": [
       "(1714, 3173)"
      ]
     },
     "execution_count": 73,
     "metadata": {},
     "output_type": "execute_result"
    }
   ],
   "source": [
    "test_df['user_id'].nunique(), test_df['item_id'].nunique()"
   ]
  },
  {
   "cell_type": "markdown",
   "metadata": {},
   "source": [
    "## Save Data"
   ]
  },
  {
   "cell_type": "code",
   "execution_count": 74,
   "metadata": {},
   "outputs": [],
   "source": [
    "os.makedirs(f'../data/ebnerd', exist_ok=True)\n",
    "\n",
    "train_df.to_csv(f'../data/ebnerd/train_df.csv', index=False)\n",
    "valid_df.to_csv(f'../data/ebnerd/valid_df.csv', index=False)\n",
    "test_df.to_csv(f'../data/ebnerd/test_df.csv', index=False)"
   ]
  },
  {
   "cell_type": "code",
   "execution_count": null,
   "metadata": {},
   "outputs": [],
   "source": []
  }
 ],
 "metadata": {
  "kernelspec": {
   "display_name": "Python 3 (ipykernel)",
   "language": "python",
   "name": "python3"
  },
  "language_info": {
   "codemirror_mode": {
    "name": "ipython",
    "version": 3
   },
   "file_extension": ".py",
   "mimetype": "text/x-python",
   "name": "python",
   "nbconvert_exporter": "python",
   "pygments_lexer": "ipython3",
   "version": "3.10.12"
  }
 },
 "nbformat": 4,
 "nbformat_minor": 4
}
