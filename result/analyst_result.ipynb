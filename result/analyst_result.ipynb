{
  "nbformat": 4,
  "nbformat_minor": 0,
  "metadata": {
    "colab": {
      "provenance": []
    },
    "kernelspec": {
      "name": "python3",
      "display_name": "Python 3"
    },
    "language_info": {
      "name": "python"
    }
  },
  "cells": [
    {
      "cell_type": "code",
      "execution_count": 1,
      "metadata": {
        "id": "O78QCV9AqEV6"
      },
      "outputs": [],
      "source": [
        "label = [\"p@5\",\"p@10\",\"p@15\",\"p@20\",\"r@5\",\"r@10\",\"r@15\",\"r@20\",\"g@5\",\"g@10\",\"g@15\",\"g@20\"]\n",
        "best_evaluation_fairgan = [0.02954149805009365, 0.027553686872124672, 0.02621396817266941, 0.025039900094270706, 0.010226676240563393, 0.018203966319561005, 0.024836376309394836, 0.030917933210730553, 0.0316871777176857, 0.032173823565244675, 0.0332212820649147, 0.03436234965920448]\n",
        "test_evaluation_fairgan = [0.028626278042793274, 0.02684941329061985, 0.0259416364133358, 0.02497432939708233, 0.009859872981905937, 0.017763188108801842, 0.024566324427723885, 0.03080032207071781, 0.030446240678429604, 0.0310794897377491, 0.03248598799109459, 0.033550381660461426]\n",
        "best_evaluation_diffusion = [0.07661056297156171, 0.06703424260011547, 0.06395821242019735, 0.05986651189785197, 0.022481540156907898, 0.03827128270087791, 0.0565082654065507, 0.06784175165024633, 0.0828294097227395, 0.07856466868338689, 0.08075995868476904, 0.08177008960906992]\n",
        "test_evaluation_diffusion = [0.03575159605339541, 0.03952408589669201, 0.03822789707873908, 0.038160185722576546, 0.01318181570210474, 0.02820307275862459, 0.040829476655847206, 0.05172756656639963, 0.03541468307862583, 0.04199422832356229, 0.04532993305923015, 0.04892493387903054]"
      ]
    },
    {
      "cell_type": "code",
      "source": [
        "import pandas as pd\n",
        "import matplotlib.pyplot as plt\n",
        "\n",
        "df = pd.DataFrame(columns=label)\n",
        "df.loc[0] = best_evaluation_fairgan\n",
        "df.loc[1] = test_evaluation_fairgan\n",
        "df.loc[2] = best_evaluation_diffusion\n",
        "df.loc[3] = test_evaluation_diffusion\n",
        "df.index = [\"FairGAN - valid\", \"FairGAN\", \"DiffModel - valid\", \"Diffusion\"]"
      ],
      "metadata": {
        "id": "uMijHPmzwaEg"
      },
      "execution_count": 2,
      "outputs": []
    },
    {
      "cell_type": "code",
      "source": [
        "df.reset_index(inplace=True)\n",
        "df.rename(columns={\"index\":\"model\"},inplace=True)"
      ],
      "metadata": {
        "id": "Zvt1CXOUyH3x"
      },
      "execution_count": 3,
      "outputs": []
    },
    {
      "cell_type": "code",
      "source": [
        "df[[\"model\",\"p@5\",\"p@10\",\"p@20\",\"r@5\",\"r@10\",\"r@20\",\"g@5\",\"g@10\",\"g@20\"]]"
      ],
      "metadata": {
        "colab": {
          "base_uri": "https://localhost:8080/",
          "height": 175
        },
        "id": "zV_vP9R35Wy_",
        "outputId": "27c3016e-9e7e-4a2a-ce73-25de90375ec6"
      },
      "execution_count": 4,
      "outputs": [
        {
          "output_type": "execute_result",
          "data": {
            "text/plain": [
              "               model       p@5      p@10      p@20       r@5      r@10  \\\n",
              "0    FairGAN - valid  0.029541  0.027554  0.025040  0.010227  0.018204   \n",
              "1            FairGAN  0.028626  0.026849  0.024974  0.009860  0.017763   \n",
              "2  DiffModel - valid  0.076611  0.067034  0.059867  0.022482  0.038271   \n",
              "3          Diffusion  0.035752  0.039524  0.038160  0.013182  0.028203   \n",
              "\n",
              "       r@20       g@5      g@10      g@20  \n",
              "0  0.030918  0.031687  0.032174  0.034362  \n",
              "1  0.030800  0.030446  0.031079  0.033550  \n",
              "2  0.067842  0.082829  0.078565  0.081770  \n",
              "3  0.051728  0.035415  0.041994  0.048925  "
            ],
            "text/html": [
              "\n",
              "  <div id=\"df-cbb824cb-f659-4f3e-84fa-efa5fa14cba2\" class=\"colab-df-container\">\n",
              "    <div>\n",
              "<style scoped>\n",
              "    .dataframe tbody tr th:only-of-type {\n",
              "        vertical-align: middle;\n",
              "    }\n",
              "\n",
              "    .dataframe tbody tr th {\n",
              "        vertical-align: top;\n",
              "    }\n",
              "\n",
              "    .dataframe thead th {\n",
              "        text-align: right;\n",
              "    }\n",
              "</style>\n",
              "<table border=\"1\" class=\"dataframe\">\n",
              "  <thead>\n",
              "    <tr style=\"text-align: right;\">\n",
              "      <th></th>\n",
              "      <th>model</th>\n",
              "      <th>p@5</th>\n",
              "      <th>p@10</th>\n",
              "      <th>p@20</th>\n",
              "      <th>r@5</th>\n",
              "      <th>r@10</th>\n",
              "      <th>r@20</th>\n",
              "      <th>g@5</th>\n",
              "      <th>g@10</th>\n",
              "      <th>g@20</th>\n",
              "    </tr>\n",
              "  </thead>\n",
              "  <tbody>\n",
              "    <tr>\n",
              "      <th>0</th>\n",
              "      <td>FairGAN - valid</td>\n",
              "      <td>0.029541</td>\n",
              "      <td>0.027554</td>\n",
              "      <td>0.025040</td>\n",
              "      <td>0.010227</td>\n",
              "      <td>0.018204</td>\n",
              "      <td>0.030918</td>\n",
              "      <td>0.031687</td>\n",
              "      <td>0.032174</td>\n",
              "      <td>0.034362</td>\n",
              "    </tr>\n",
              "    <tr>\n",
              "      <th>1</th>\n",
              "      <td>FairGAN</td>\n",
              "      <td>0.028626</td>\n",
              "      <td>0.026849</td>\n",
              "      <td>0.024974</td>\n",
              "      <td>0.009860</td>\n",
              "      <td>0.017763</td>\n",
              "      <td>0.030800</td>\n",
              "      <td>0.030446</td>\n",
              "      <td>0.031079</td>\n",
              "      <td>0.033550</td>\n",
              "    </tr>\n",
              "    <tr>\n",
              "      <th>2</th>\n",
              "      <td>DiffModel - valid</td>\n",
              "      <td>0.076611</td>\n",
              "      <td>0.067034</td>\n",
              "      <td>0.059867</td>\n",
              "      <td>0.022482</td>\n",
              "      <td>0.038271</td>\n",
              "      <td>0.067842</td>\n",
              "      <td>0.082829</td>\n",
              "      <td>0.078565</td>\n",
              "      <td>0.081770</td>\n",
              "    </tr>\n",
              "    <tr>\n",
              "      <th>3</th>\n",
              "      <td>Diffusion</td>\n",
              "      <td>0.035752</td>\n",
              "      <td>0.039524</td>\n",
              "      <td>0.038160</td>\n",
              "      <td>0.013182</td>\n",
              "      <td>0.028203</td>\n",
              "      <td>0.051728</td>\n",
              "      <td>0.035415</td>\n",
              "      <td>0.041994</td>\n",
              "      <td>0.048925</td>\n",
              "    </tr>\n",
              "  </tbody>\n",
              "</table>\n",
              "</div>\n",
              "    <div class=\"colab-df-buttons\">\n",
              "\n",
              "  <div class=\"colab-df-container\">\n",
              "    <button class=\"colab-df-convert\" onclick=\"convertToInteractive('df-cbb824cb-f659-4f3e-84fa-efa5fa14cba2')\"\n",
              "            title=\"Convert this dataframe to an interactive table.\"\n",
              "            style=\"display:none;\">\n",
              "\n",
              "  <svg xmlns=\"http://www.w3.org/2000/svg\" height=\"24px\" viewBox=\"0 -960 960 960\">\n",
              "    <path d=\"M120-120v-720h720v720H120Zm60-500h600v-160H180v160Zm220 220h160v-160H400v160Zm0 220h160v-160H400v160ZM180-400h160v-160H180v160Zm440 0h160v-160H620v160ZM180-180h160v-160H180v160Zm440 0h160v-160H620v160Z\"/>\n",
              "  </svg>\n",
              "    </button>\n",
              "\n",
              "  <style>\n",
              "    .colab-df-container {\n",
              "      display:flex;\n",
              "      gap: 12px;\n",
              "    }\n",
              "\n",
              "    .colab-df-convert {\n",
              "      background-color: #E8F0FE;\n",
              "      border: none;\n",
              "      border-radius: 50%;\n",
              "      cursor: pointer;\n",
              "      display: none;\n",
              "      fill: #1967D2;\n",
              "      height: 32px;\n",
              "      padding: 0 0 0 0;\n",
              "      width: 32px;\n",
              "    }\n",
              "\n",
              "    .colab-df-convert:hover {\n",
              "      background-color: #E2EBFA;\n",
              "      box-shadow: 0px 1px 2px rgba(60, 64, 67, 0.3), 0px 1px 3px 1px rgba(60, 64, 67, 0.15);\n",
              "      fill: #174EA6;\n",
              "    }\n",
              "\n",
              "    .colab-df-buttons div {\n",
              "      margin-bottom: 4px;\n",
              "    }\n",
              "\n",
              "    [theme=dark] .colab-df-convert {\n",
              "      background-color: #3B4455;\n",
              "      fill: #D2E3FC;\n",
              "    }\n",
              "\n",
              "    [theme=dark] .colab-df-convert:hover {\n",
              "      background-color: #434B5C;\n",
              "      box-shadow: 0px 1px 3px 1px rgba(0, 0, 0, 0.15);\n",
              "      filter: drop-shadow(0px 1px 2px rgba(0, 0, 0, 0.3));\n",
              "      fill: #FFFFFF;\n",
              "    }\n",
              "  </style>\n",
              "\n",
              "    <script>\n",
              "      const buttonEl =\n",
              "        document.querySelector('#df-cbb824cb-f659-4f3e-84fa-efa5fa14cba2 button.colab-df-convert');\n",
              "      buttonEl.style.display =\n",
              "        google.colab.kernel.accessAllowed ? 'block' : 'none';\n",
              "\n",
              "      async function convertToInteractive(key) {\n",
              "        const element = document.querySelector('#df-cbb824cb-f659-4f3e-84fa-efa5fa14cba2');\n",
              "        const dataTable =\n",
              "          await google.colab.kernel.invokeFunction('convertToInteractive',\n",
              "                                                    [key], {});\n",
              "        if (!dataTable) return;\n",
              "\n",
              "        const docLinkHtml = 'Like what you see? Visit the ' +\n",
              "          '<a target=\"_blank\" href=https://colab.research.google.com/notebooks/data_table.ipynb>data table notebook</a>'\n",
              "          + ' to learn more about interactive tables.';\n",
              "        element.innerHTML = '';\n",
              "        dataTable['output_type'] = 'display_data';\n",
              "        await google.colab.output.renderOutput(dataTable, element);\n",
              "        const docLink = document.createElement('div');\n",
              "        docLink.innerHTML = docLinkHtml;\n",
              "        element.appendChild(docLink);\n",
              "      }\n",
              "    </script>\n",
              "  </div>\n",
              "\n",
              "\n",
              "<div id=\"df-07150d4e-1031-491e-b8a0-3864d1ff4df3\">\n",
              "  <button class=\"colab-df-quickchart\" onclick=\"quickchart('df-07150d4e-1031-491e-b8a0-3864d1ff4df3')\"\n",
              "            title=\"Suggest charts\"\n",
              "            style=\"display:none;\">\n",
              "\n",
              "<svg xmlns=\"http://www.w3.org/2000/svg\" height=\"24px\"viewBox=\"0 0 24 24\"\n",
              "     width=\"24px\">\n",
              "    <g>\n",
              "        <path d=\"M19 3H5c-1.1 0-2 .9-2 2v14c0 1.1.9 2 2 2h14c1.1 0 2-.9 2-2V5c0-1.1-.9-2-2-2zM9 17H7v-7h2v7zm4 0h-2V7h2v10zm4 0h-2v-4h2v4z\"/>\n",
              "    </g>\n",
              "</svg>\n",
              "  </button>\n",
              "\n",
              "<style>\n",
              "  .colab-df-quickchart {\n",
              "      --bg-color: #E8F0FE;\n",
              "      --fill-color: #1967D2;\n",
              "      --hover-bg-color: #E2EBFA;\n",
              "      --hover-fill-color: #174EA6;\n",
              "      --disabled-fill-color: #AAA;\n",
              "      --disabled-bg-color: #DDD;\n",
              "  }\n",
              "\n",
              "  [theme=dark] .colab-df-quickchart {\n",
              "      --bg-color: #3B4455;\n",
              "      --fill-color: #D2E3FC;\n",
              "      --hover-bg-color: #434B5C;\n",
              "      --hover-fill-color: #FFFFFF;\n",
              "      --disabled-bg-color: #3B4455;\n",
              "      --disabled-fill-color: #666;\n",
              "  }\n",
              "\n",
              "  .colab-df-quickchart {\n",
              "    background-color: var(--bg-color);\n",
              "    border: none;\n",
              "    border-radius: 50%;\n",
              "    cursor: pointer;\n",
              "    display: none;\n",
              "    fill: var(--fill-color);\n",
              "    height: 32px;\n",
              "    padding: 0;\n",
              "    width: 32px;\n",
              "  }\n",
              "\n",
              "  .colab-df-quickchart:hover {\n",
              "    background-color: var(--hover-bg-color);\n",
              "    box-shadow: 0 1px 2px rgba(60, 64, 67, 0.3), 0 1px 3px 1px rgba(60, 64, 67, 0.15);\n",
              "    fill: var(--button-hover-fill-color);\n",
              "  }\n",
              "\n",
              "  .colab-df-quickchart-complete:disabled,\n",
              "  .colab-df-quickchart-complete:disabled:hover {\n",
              "    background-color: var(--disabled-bg-color);\n",
              "    fill: var(--disabled-fill-color);\n",
              "    box-shadow: none;\n",
              "  }\n",
              "\n",
              "  .colab-df-spinner {\n",
              "    border: 2px solid var(--fill-color);\n",
              "    border-color: transparent;\n",
              "    border-bottom-color: var(--fill-color);\n",
              "    animation:\n",
              "      spin 1s steps(1) infinite;\n",
              "  }\n",
              "\n",
              "  @keyframes spin {\n",
              "    0% {\n",
              "      border-color: transparent;\n",
              "      border-bottom-color: var(--fill-color);\n",
              "      border-left-color: var(--fill-color);\n",
              "    }\n",
              "    20% {\n",
              "      border-color: transparent;\n",
              "      border-left-color: var(--fill-color);\n",
              "      border-top-color: var(--fill-color);\n",
              "    }\n",
              "    30% {\n",
              "      border-color: transparent;\n",
              "      border-left-color: var(--fill-color);\n",
              "      border-top-color: var(--fill-color);\n",
              "      border-right-color: var(--fill-color);\n",
              "    }\n",
              "    40% {\n",
              "      border-color: transparent;\n",
              "      border-right-color: var(--fill-color);\n",
              "      border-top-color: var(--fill-color);\n",
              "    }\n",
              "    60% {\n",
              "      border-color: transparent;\n",
              "      border-right-color: var(--fill-color);\n",
              "    }\n",
              "    80% {\n",
              "      border-color: transparent;\n",
              "      border-right-color: var(--fill-color);\n",
              "      border-bottom-color: var(--fill-color);\n",
              "    }\n",
              "    90% {\n",
              "      border-color: transparent;\n",
              "      border-bottom-color: var(--fill-color);\n",
              "    }\n",
              "  }\n",
              "</style>\n",
              "\n",
              "  <script>\n",
              "    async function quickchart(key) {\n",
              "      const quickchartButtonEl =\n",
              "        document.querySelector('#' + key + ' button');\n",
              "      quickchartButtonEl.disabled = true;  // To prevent multiple clicks.\n",
              "      quickchartButtonEl.classList.add('colab-df-spinner');\n",
              "      try {\n",
              "        const charts = await google.colab.kernel.invokeFunction(\n",
              "            'suggestCharts', [key], {});\n",
              "      } catch (error) {\n",
              "        console.error('Error during call to suggestCharts:', error);\n",
              "      }\n",
              "      quickchartButtonEl.classList.remove('colab-df-spinner');\n",
              "      quickchartButtonEl.classList.add('colab-df-quickchart-complete');\n",
              "    }\n",
              "    (() => {\n",
              "      let quickchartButtonEl =\n",
              "        document.querySelector('#df-07150d4e-1031-491e-b8a0-3864d1ff4df3 button');\n",
              "      quickchartButtonEl.style.display =\n",
              "        google.colab.kernel.accessAllowed ? 'block' : 'none';\n",
              "    })();\n",
              "  </script>\n",
              "</div>\n",
              "\n",
              "    </div>\n",
              "  </div>\n"
            ],
            "application/vnd.google.colaboratory.intrinsic+json": {
              "type": "dataframe",
              "summary": "{\n  \"name\": \"df[[\\\"model\\\",\\\"p@5\\\",\\\"p@10\\\",\\\"p@20\\\",\\\"r@5\\\",\\\"r@10\\\",\\\"r@20\\\",\\\"g@5\\\",\\\"g@10\\\",\\\"g@20\\\"]]\",\n  \"rows\": 4,\n  \"fields\": [\n    {\n      \"column\": \"model\",\n      \"properties\": {\n        \"dtype\": \"string\",\n        \"num_unique_values\": 4,\n        \"samples\": [\n          \"FairGAN\",\n          \"Diffusion\",\n          \"FairGAN - valid\"\n        ],\n        \"semantic_type\": \"\",\n        \"description\": \"\"\n      }\n    },\n    {\n      \"column\": \"p@5\",\n      \"properties\": {\n        \"dtype\": \"number\",\n        \"std\": 0.022872138713492675,\n        \"min\": 0.028626278042793274,\n        \"max\": 0.07661056297156171,\n        \"num_unique_values\": 4,\n        \"samples\": [\n          0.028626278042793274,\n          0.03575159605339541,\n          0.02954149805009365\n        ],\n        \"semantic_type\": \"\",\n        \"description\": \"\"\n      }\n    },\n    {\n      \"column\": \"p@10\",\n      \"properties\": {\n        \"dtype\": \"number\",\n        \"std\": 0.018785582434470156,\n        \"min\": 0.02684941329061985,\n        \"max\": 0.06703424260011547,\n        \"num_unique_values\": 4,\n        \"samples\": [\n          0.02684941329061985,\n          0.03952408589669201,\n          0.027553686872124672\n        ],\n        \"semantic_type\": \"\",\n        \"description\": \"\"\n      }\n    },\n    {\n      \"column\": \"p@20\",\n      \"properties\": {\n        \"dtype\": \"number\",\n        \"std\": 0.016450772238543097,\n        \"min\": 0.02497432939708233,\n        \"max\": 0.05986651189785197,\n        \"num_unique_values\": 4,\n        \"samples\": [\n          0.02497432939708233,\n          0.038160185722576546,\n          0.025039900094270706\n        ],\n        \"semantic_type\": \"\",\n        \"description\": \"\"\n      }\n    },\n    {\n      \"column\": \"r@5\",\n      \"properties\": {\n        \"dtype\": \"number\",\n        \"std\": 0.005886961186412384,\n        \"min\": 0.009859872981905937,\n        \"max\": 0.022481540156907898,\n        \"num_unique_values\": 4,\n        \"samples\": [\n          0.009859872981905937,\n          0.01318181570210474,\n          0.010226676240563393\n        ],\n        \"semantic_type\": \"\",\n        \"description\": \"\"\n      }\n    },\n    {\n      \"column\": \"r@10\",\n      \"properties\": {\n        \"dtype\": \"number\",\n        \"std\": 0.00972032059013104,\n        \"min\": 0.017763188108801842,\n        \"max\": 0.03827128270087791,\n        \"num_unique_values\": 4,\n        \"samples\": [\n          0.017763188108801842,\n          0.02820307275862459,\n          0.018203966319561005\n        ],\n        \"semantic_type\": \"\",\n        \"description\": \"\"\n      }\n    },\n    {\n      \"column\": \"r@20\",\n      \"properties\": {\n        \"dtype\": \"number\",\n        \"std\": 0.017949250377396544,\n        \"min\": 0.03080032207071781,\n        \"max\": 0.06784175165024633,\n        \"num_unique_values\": 4,\n        \"samples\": [\n          0.03080032207071781,\n          0.05172756656639963,\n          0.030917933210730553\n        ],\n        \"semantic_type\": \"\",\n        \"description\": \"\"\n      }\n    },\n    {\n      \"column\": \"g@5\",\n      \"properties\": {\n        \"dtype\": \"number\",\n        \"std\": 0.025245131935277512,\n        \"min\": 0.030446240678429604,\n        \"max\": 0.0828294097227395,\n        \"num_unique_values\": 4,\n        \"samples\": [\n          0.030446240678429604,\n          0.03541468307862583,\n          0.0316871777176857\n        ],\n        \"semantic_type\": \"\",\n        \"description\": \"\"\n      }\n    },\n    {\n      \"column\": \"g@10\",\n      \"properties\": {\n        \"dtype\": \"number\",\n        \"std\": 0.022288112064742082,\n        \"min\": 0.0310794897377491,\n        \"max\": 0.07856466868338689,\n        \"num_unique_values\": 4,\n        \"samples\": [\n          0.0310794897377491,\n          0.04199422832356229,\n          0.032173823565244675\n        ],\n        \"semantic_type\": \"\",\n        \"description\": \"\"\n      }\n    },\n    {\n      \"column\": \"g@20\",\n      \"properties\": {\n        \"dtype\": \"number\",\n        \"std\": 0.022547252796157012,\n        \"min\": 0.033550381660461426,\n        \"max\": 0.08177008960906992,\n        \"num_unique_values\": 4,\n        \"samples\": [\n          0.033550381660461426,\n          0.04892493387903054,\n          0.03436234965920448\n        ],\n        \"semantic_type\": \"\",\n        \"description\": \"\"\n      }\n    }\n  ]\n}"
            }
          },
          "metadata": {},
          "execution_count": 4
        }
      ]
    },
    {
      "cell_type": "code",
      "source": [
        "df_p_k = df[[\"model\",\"p@5\",\"p@10\",\"p@15\",\"p@20\"]]\n",
        "df_p_k = df_p_k.melt(id_vars=[\"model\"],var_name=\"k\",value_name=\"precision\")\n",
        "df_p_k[\"k\"] = df_p_k[\"k\"].str.replace(\"p@\",\"\").astype(int)"
      ],
      "metadata": {
        "id": "sQKDLXZey1d8"
      },
      "execution_count": 5,
      "outputs": []
    },
    {
      "cell_type": "code",
      "source": [
        "plt.figure(figsize=(5,4))\n",
        "\n",
        "# Plot for FairGAN\n",
        "plt.plot(df_p_k[df_p_k[\"model\"]==\"FairGAN\"][\"k\"], df_p_k[df_p_k[\"model\"]==\"FairGAN\"][\"precision\"], label=\"FairGAN\", marker=\"o\")\n",
        "for i, row in df_p_k[df_p_k[\"model\"]==\"FairGAN\"].iterrows():\n",
        "    plt.text(row['k'], row['precision']-0.004, f'{row[\"precision\"]:.3f}', fontsize=9, va='center_baseline',ha=\"center\")\n",
        "\n",
        "# Plot for Diffusion\n",
        "plt.plot(df_p_k[df_p_k[\"model\"]==\"Diffusion\"][\"k\"], df_p_k[df_p_k[\"model\"]==\"Diffusion\"][\"precision\"], label=\"Diffusion\", marker=\"o\")\n",
        "for i, row in df_p_k[df_p_k[\"model\"]==\"Diffusion\"].iterrows():\n",
        "    plt.text(row['k'], row['precision']+0.004, f'{row[\"precision\"]:.3f}', fontsize=9, va=\"center_baseline\",ha=\"center\")\n",
        "\n",
        "# Adjust plot\n",
        "plt.ylim(0, 0.1)\n",
        "plt.xlabel('k')\n",
        "plt.ylabel('Precision')\n",
        "plt.xticks([5, 10, 15, 20])\n",
        "plt.legend()\n",
        "plt.title('Precision per k')\n",
        "\n",
        "plt.show()\n"
      ],
      "metadata": {
        "colab": {
          "base_uri": "https://localhost:8080/",
          "height": 410
        },
        "id": "DJP5QoedzSwc",
        "outputId": "36eb2e6c-9094-474d-8283-ff6b330b3918"
      },
      "execution_count": 25,
      "outputs": [
        {
          "output_type": "display_data",
          "data": {
            "text/plain": [
              "<Figure size 500x400 with 1 Axes>"
            ],
            "image/png": "[encoded data removed]"
          },
          "metadata": {}
        }
      ]
    },
    {
      "cell_type": "code",
      "source": [
        "df_r_k = df[[\"model\",\"r@5\",\"r@10\",\"r@15\",\"r@20\"]]\n",
        "df_r_k = df_r_k.melt(id_vars=[\"model\"],var_name=\"k\",value_name=\"recall\")\n",
        "df_r_k[\"k\"] = df_r_k[\"k\"].str.replace(\"r@\",\"\").astype(int)"
      ],
      "metadata": {
        "id": "BE9Z33_azzo1"
      },
      "execution_count": 27,
      "outputs": []
    },
    {
      "cell_type": "code",
      "source": [
        "\n",
        "plt.figure(figsize=(5,4))\n",
        "\n",
        "# Plot for FairGAN with annotations\n",
        "plt.plot(df_r_k[df_r_k[\"model\"]==\"FairGAN\"][\"k\"], df_r_k[df_r_k[\"model\"]==\"FairGAN\"][\"recall\"], label=\"FairGAN\", marker=\"o\")\n",
        "for i, row in df_r_k[df_r_k[\"model\"]==\"FairGAN\"].iterrows():\n",
        "    plt.text(row['k'], row['recall']-0.004, f'{row[\"recall\"]:.3f}', fontsize=9, va='center_baseline',ha=\"center\")\n",
        "\n",
        "# Plot for Diffusion with annotations\n",
        "plt.plot(df_r_k[df_r_k[\"model\"]==\"Diffusion\"][\"k\"], df_r_k[df_r_k[\"model\"]==\"Diffusion\"][\"recall\"], label=\"Diffusion\", marker=\"o\")\n",
        "for i, row in df_r_k[df_r_k[\"model\"]==\"Diffusion\"].iterrows():\n",
        "    plt.text(row['k'], row['recall']+0.004, f'{row[\"recall\"]:.3f}', fontsize=9,  va='center_baseline',ha=\"center\")\n",
        "\n",
        "# Adjust plot\n",
        "plt.ylim(0, 0.1)\n",
        "plt.xlabel('k')\n",
        "plt.ylabel('Recall')\n",
        "plt.xticks([5, 10, 15, 20])\n",
        "plt.legend()\n",
        "plt.title('Recall per k')\n",
        "\n",
        "plt.show()\n"
      ],
      "metadata": {
        "colab": {
          "base_uri": "https://localhost:8080/",
          "height": 410
        },
        "id": "jQj_rBA1z_Zu",
        "outputId": "7a8a4ea0-ab44-4f0c-a615-b72004dfa643"
      },
      "execution_count": 28,
      "outputs": [
        {
          "output_type": "display_data",
          "data": {
            "text/plain": [
              "<Figure size 500x400 with 1 Axes>"
            ],
            "image/png": "[encoded data removed]"
          },
          "metadata": {}
        }
      ]
    },
    {
      "cell_type": "code",
      "source": [
        "df_g_k = df[[\"model\",\"g@5\",\"g@10\",\"g@15\",\"g@20\"]]\n",
        "df_g_k = df_g_k.melt(id_vars=[\"model\"],var_name=\"k\",value_name=\"NDCG\")\n",
        "df_g_k[\"k\"] = df_g_k[\"k\"].str.replace(\"g@\",\"\").astype(int)"
      ],
      "metadata": {
        "id": "PamENKsy0aln"
      },
      "execution_count": 29,
      "outputs": []
    },
    {
      "cell_type": "code",
      "source": [
        "plt.figure(figsize=(5,4))\n",
        "\n",
        "# Plot for FairGAN with annotations\n",
        "plt.plot(df_g_k[df_g_k[\"model\"]==\"FairGAN\"][\"k\"], df_g_k[df_g_k[\"model\"]==\"FairGAN\"][\"NDCG\"], label=\"FairGAN\", marker=\"o\")\n",
        "for i, row in df_g_k[df_g_k[\"model\"]==\"FairGAN\"].iterrows():\n",
        "    plt.text(row['k'], row['NDCG'] -0.004, f'{row[\"NDCG\"]:.3f}', fontsize=9, va='center_baseline',ha=\"center\")\n",
        "\n",
        "# Plot for Diffusion with annotations\n",
        "plt.plot(df_g_k[df_g_k[\"model\"]==\"Diffusion\"][\"k\"], df_g_k[df_g_k[\"model\"]==\"Diffusion\"][\"NDCG\"], label=\"Diffusion\", marker=\"o\")\n",
        "for i, row in df_g_k[df_g_k[\"model\"]==\"Diffusion\"].iterrows():\n",
        "    plt.text(row['k'], row['NDCG'] +0.004, f'{row[\"NDCG\"]:.3f}', fontsize=9, va='center_baseline',ha=\"center\")\n",
        "\n",
        "# Adjust plot\n",
        "plt.ylim(0, 0.1)\n",
        "plt.xlabel('k')\n",
        "plt.ylabel('NDCG')\n",
        "plt.xticks([5, 10, 15, 20])\n",
        "plt.legend()\n",
        "plt.title('NDCG per k')\n",
        "\n",
        "plt.show()\n"
      ],
      "metadata": {
        "colab": {
          "base_uri": "https://localhost:8080/",
          "height": 410
        },
        "id": "cRo5BZiM0jfp",
        "outputId": "2670b6d9-b91c-4318-8215-a24a4f965aab"
      },
      "execution_count": 30,
      "outputs": [
        {
          "output_type": "display_data",
          "data": {
            "text/plain": [
              "<Figure size 500x400 with 1 Axes>"
            ],
            "image/png": "[encoded data removed]"
          },
          "metadata": {}
        }
      ]
    }
  ]
}